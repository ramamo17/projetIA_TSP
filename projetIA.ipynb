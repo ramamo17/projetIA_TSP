{
 "cells": [
  {
   "cell_type": "code",
   "execution_count": 7,
   "metadata": {},
   "outputs": [],
   "source": [
    "from copy import deepcopy\n",
    "import math\n",
    "from random import randint\n",
    "from __future__ import print_function\n",
    "from ipywidgets import interact, interactive, fixed, interact_manual\n",
    "import ipywidgets as widgets\n",
    "import numpy as np\n",
    "import tkinter"
   ]
  },
  {
   "cell_type": "code",
   "execution_count": 8,
   "metadata": {},
   "outputs": [],
   "source": [
    "class Etat : # c'est la classe qui décrit nos différents états pour la recherche informée\n",
    "    def __init__(self, visited=[], tovisit=[], startingcity = '', currentcity='', costs=[], cost=0, value = (-1), cities=[], hist = []):\n",
    "        self.visited = visited #les villes deja visitees on pourrait utiliser une liste\n",
    "        self.tovisit = tovisit # les villes a visiter, une liste pareil\n",
    "        self.startingcity = startingcity # ville de départ qui devre etre la ville d'arrivee\n",
    "        self.currentcity = currentcity # la ville ou on en est, on pourrait aussi faire self.visited.tail peut être\n",
    "        self.costs = costs # une liste de liste [[a,b,3], [a,c,5], etc...]\n",
    "        self.cost = cost # le coût de ce chemin à l'étape currentcity servira de g(n)\n",
    "        self.value = value # resultat de f = h + g\n",
    "        self.cities = cities\n",
    "        self.hist = hist # etat precedent\n",
    "        \n",
    "    def addpath(self, path): #path de la forme ['Paris','Lyon',45] et l'ajoute à self\n",
    "        nouv = deepcopy(self)\n",
    "        nouv.hist.append([path[0], path[1]]) # on met à jour l'historique de chaque etat\n",
    "        if (path[0] in nouv.visited):\n",
    "            nouv.currentcity = path[1]\n",
    "        else:\n",
    "            nouv.currentcity = path[0]\n",
    "        nouv.visited.append(path[0])\n",
    "        nouv.visited.append(path[1])\n",
    "        nouv.visited = list(set(nouv.visited))\n",
    "        nouv.cost+= path[2]\n",
    "        if (path[0] in nouv.tovisit ) : nouv.tovisit.remove(path[0]) # ce qui est visité n'est plus à visiter\n",
    "        if (path[1] in nouv.tovisit ) :nouv.tovisit.remove(path[1])\n",
    "        return nouv \n",
    "\n",
    "    def getmintree(self):\n",
    "        cop = self.costs.copy()\n",
    "        vis = self.visited\n",
    "        edg = []\n",
    "        cos = self.cost # totalcost\n",
    "        index = 0\n",
    "        if len(vis)==0: # to get started\n",
    "            for i in range(len(cop)):\n",
    "                for j in range(len(cop)):\n",
    "                    if (cop[i][2]<=cop[j][2]) and (cop[index][2]>cop[i][2]):\n",
    "                        index = i    \n",
    "            cos+=cop[index][2] # le cout total\n",
    "            edg.append(cop[index])\n",
    "            vis.extend((cop[index][0],cop[index][1])) # on met les villes visited dans vis\n",
    "        if len(vis) != 0:\n",
    "            for k in range(len(self.cities)-len(vis)):\n",
    "                index = 0\n",
    "                for i in range(len(cop)):\n",
    "                    if not((cop[i][0] in vis) and (cop[i][1] in vis)) and not((cop[i][0] not in vis) and (cop[i][1] not in vis)):\n",
    "                        for j in range(len(cop)):\n",
    "                            if not((cop[j][0] in vis) and (cop[j][1] in vis)) and not((cop[j][0] not in vis) and (cop[j][1] not in vis)): # ici on a l'ensemble frontière\n",
    "                                if (cop[i][2]<=cop[j][2]) and (cop[index][2]>cop[i][2]):\n",
    "                                    index = i\n",
    "                vis.extend((cop[index][0],cop[index][1]))\n",
    "                vis = list(set(vis)) #pour supprimer les doublons\n",
    "                cos+=cop[index][2]\n",
    "                edg.append(cop[index])\n",
    "                self.currentcity = edg[-1][1]\n",
    "                self.visited = vis\n",
    "                self.cost = cos\n",
    "                self.tovisit = list(set(self.tovisit)- set(self.visited))\n",
    "        return edg\n",
    "\n",
    "    def heuristic(self): # sera notre heuristic via calcul du minspantree\n",
    "        nouv = deepcopy(self)\n",
    "        cop = nouv.getcosts()\n",
    "        vis = nouv.getvisited()\n",
    "        edg = []\n",
    "        cos = nouv.getcost() # totalcost\n",
    "        index = 0\n",
    "        frontier = []\n",
    "        if len(vis)==0: # to get started\n",
    "            for i in range(len(cop)):\n",
    "                for j in range(len(cop)):\n",
    "                    if (cop[i][2]<=cop[j][2]) and (cop[index][2]>cop[i][2]):\n",
    "                        index = i    \n",
    "            cos+=cop[index][2] # le cout total\n",
    "            edg.append(cop[index])\n",
    "            vis.extend((cop[index][0],cop[index][1])) # on met les villes visited dans vis\n",
    "        if len(vis) != 0:\n",
    "            for k in range(len(nouv.getcities())-len(vis)):\n",
    "                index = 0\n",
    "                for i in range(len(cop)):\n",
    "                    if not((cop[i][0] in vis) and (cop[i][1] in vis)) and not((cop[i][0] not in vis) and (cop[i][1] not in vis)):\n",
    "                        if (k == 0): #la frontier pour le premier coup\n",
    "                            frontier.append(cop[i]) # les edges encore candidats\n",
    "                        for j in range(len(cop)):\n",
    "                            if not((cop[j][0] in vis) and (cop[j][1] in vis)) and not((cop[j][0] not in vis) and (cop[j][1] not in vis)): # ici on a l'ensemble frontière\n",
    "                                if (cop[i][2]<=cop[j][2]) and (cop[index][2]>cop[i][2]):\n",
    "                                    index = i\n",
    "                vis.extend((cop[index][0],cop[index][1]))\n",
    "                vis = list(set(vis)) #pour supprimer les doublons\n",
    "                cos+=cop[index][2]\n",
    "                edg.append(cop[index])\n",
    "                nouv.currentcity = edg[-1][1]\n",
    "                nouv.visited = vis\n",
    "                nouv.tovisit = list(set(nouv.tovisit)- set(nouv.visited))\n",
    "                new_f = []\n",
    "                for elem in frontier:\n",
    "                    if elem not in new_f:\n",
    "                        new_f.append(elem)\n",
    "                frontier = new_f # il y a toutes les frontières ici mais on peut voir à les avoir pour une certaine étape ou faire une liste de liste\n",
    "        return (cos - nouv.getcost())\n",
    "\n",
    "    def frontier(self): # va retourner les etats frontier qui peuvent etre ajouté à l'arbre mais pas forcément dans astar comme on doit partie de la dernière ville visitée\n",
    "        front = []\n",
    "        vis = self.visited.copy()\n",
    "        cop = self.costs.copy()\n",
    "        for i in range(len(cop)):\n",
    "            if not((cop[i][0] in vis) and (cop[i][1] in vis)) and not((cop[i][0] not in vis) and (cop[i][1] not in vis)): #la frontier pour le premier coup\n",
    "                front.append(cop[i]) # les edges encore candidats\n",
    "        new_f = []\n",
    "        for elem in front:\n",
    "            if elem not in new_f:\n",
    "                new_f.append(elem)\n",
    "        front = new_f\n",
    "        return front\n",
    "\n",
    "    def openfront(self):\n",
    "        op = []\n",
    "        vis = self.getvisited()\n",
    "        cop = self.costs.copy()\n",
    "        for i in range(len(cop)):\n",
    "            if ((cop[i][0] == self.getcurrentcity()) and (cop[i][1] not in vis)) or ((cop[i][1] == self.getcurrentcity()) and (cop[i][0] not in vis)): #on veut que les coups suivants partent de la dernière ville visitée\n",
    "                op.append(cop[i]) # les edges encore candidats\n",
    "        return op\n",
    "\n",
    "\n",
    "    def addvisited(self, city): # serves to add a city to the visited ones\n",
    "        try:\n",
    "            assert(city in self.tovisit)\n",
    "            self.visited.append(city)\n",
    "        except:\n",
    "            print(\"Cette ville n'est pas dans la liste des villes encore disponibles \\n Essayer la fonction ShowUnvisitedCities\")\n",
    "\n",
    "    def getvisited(self):\n",
    "        return self.visited\n",
    "\n",
    "    def getcosts(self):\n",
    "        return self.costs\n",
    "\n",
    "    def getcost(self):\n",
    "        return self.cost\n",
    "\n",
    "    def getcurrentcity(self):\n",
    "        return self.currentcity\n",
    "\n",
    "    def getstartingcity(self):\n",
    "        return self.startingcity\n",
    "\n",
    "    def getcities(self):\n",
    "        return self.cities\n",
    "    \n",
    "    def gethist(self):\n",
    "        return self.hist\n",
    "\n",
    "    def show_unvisited_cities(self):\n",
    "        print(f\"There are the cities left to visit {self.tovisit}\")\n",
    "\n",
    "    def prettyprint(self):\n",
    "        print('Villes déjà visitées :' + str(self.visited))\n",
    "        print('Villes à visiter :' + str(self.tovisit))\n",
    "        print('Ville de départ :' + self.startingcity)\n",
    "        print('Villeactuelle :' + self.currentcity)\n",
    "        print('Données :' + str(self.costs))\n",
    "        print('Coût à cette étape :' + str(self.cost))\n",
    "        print('valeur de f = h + g :' + str(self.value))\n",
    "        print('Toutes les villes :' + str(self.cities))\n",
    "        print('Historique des chemins empreintés :' + str(self.hist))\n",
    "        \n",
    "    def setvalue(self):\n",
    "        self.value = self.cost + self.heuristic()\n",
    "    \n",
    "    def getvalue(self):\n",
    "        return self.value"
   ]
  },
  {
   "cell_type": "markdown",
   "metadata": {},
   "source": [
    "Ci dessous nous avons la fonction astar qui met applique l'algorithme eponyme. Il peut gérer jusqu'à un graph complet de 10 villes dans un temps raisonnable. Pour des graphs plus grand le temps d'execution devient trop long."
   ]
  },
  {
   "cell_type": "code",
   "execution_count": 9,
   "metadata": {},
   "outputs": [],
   "source": [
    "def astar(etat):\n",
    "    cop = deepcopy(etat)\n",
    "    cop.setvalue()\n",
    "    op = [cop] #la frontière, à voire comment représenter ça, ce sera une liste d'états, à ranger dans l'ordre croissant de f = g + h ou alors avoir une fonction qui nous donne le min\n",
    "    maxop = op.copy()\n",
    "    closed = [] # c'est les états validés et ce sera le resultat final je pense\n",
    "    closed.append(op.pop()) # initialisation\n",
    "    toadd = closed[-1].openfront() # on récupère les étapes suivantes possibles\n",
    "    for i in toadd:\n",
    "        temp = deepcopy(closed[-1]) # et on crée les etats correspondants\n",
    "        tempi = temp.addpath(i)\n",
    "        tempi.setvalue()\n",
    "        op.append(tempi) # on continue de peupler op\n",
    "    while (len(closed[-1].getvisited()) != len(etat.getcities())): # tant qu'on a pas visité toutes les villes\n",
    "        indice = 0\n",
    "        indsuppr = 0\n",
    "        first = math.inf\n",
    "        for i in op: # on va prendre dans indice l'indice de ce qui nous intéresse dans op sans oublier de le suppr de op\n",
    "            indice+=1\n",
    "            val = i.getvalue()\n",
    "            if (val)< first:\n",
    "                first = val\n",
    "                indsuppr = indice\n",
    "        closed.append(op.pop(indsuppr-1)) #on déplace ce qui nous interesse de op vers closed sans oublier de le suppr de op\n",
    "        toadd = closed[-1].openfront() # on récupère les étapes suivantes possibles\n",
    "        for i in toadd:\n",
    "            temp = deepcopy(closed[-1]) # et on crée les etats correspondants\n",
    "            tempi = temp.addpath(i)\n",
    "            tempi.setvalue()\n",
    "            op.append(tempi) # on continue de peupler op\n",
    "            if len(op) > len(maxop):\n",
    "                maxop = op\n",
    "    chemin = closed[-1].gethist()\n",
    "    print('La taille max de l\\'ensemble frontière est de', len(maxop))\n",
    "    last = chemin[-1][0] # dernière ville visitée\n",
    "    if chemin[-1][0] in chemin[-2]:\n",
    "        last = chemin[-1][1]\n",
    "    recherche = closed[-1].getcosts() # le graph\n",
    "    derniercout = 0\n",
    "    for i in recherche:\n",
    "        if (i[0] == closed[-1].getstartingcity()) and (i[1] == last):\n",
    "            derniercout = i[2]\n",
    "    der = closed[-1].addpath([closed[-1].getstartingcity(),last, derniercout])\n",
    "    print('Le cout finalement trouvé est de ', der.getcost())\n",
    "    chemin = der.gethist()\n",
    "    print(chemin)\n",
    "    return chemin\n",
    "    "
   ]
  },
  {
   "cell_type": "markdown",
   "metadata": {},
   "source": [
    "Nous allons maintenant appliquer l'algorithme astar pour un graph généré aléatoirement. vous pouvez choisir le nombre de villes qu'il y a dans le graph. C'est rapide jusqu'à 8 puis je n'ai pas mis plus de 11 car ça devient trop long."
   ]
  },
  {
   "cell_type": "code",
   "execution_count": 10,
   "metadata": {},
   "outputs": [],
   "source": [
    "villeFrance = ['Paris','Marseille','Lyon','Nantes','Rennes','Toulouse','Bordeaux','Lille','Fontainebleau','Saint-Malo','Verdun','Nice','Strasbourg',\n",
    "'Montpellier','Aix-en-Provence','Angers','Dijon','Grenoble','Annecy','Avignon','Nîmes','Le Havre','Toulon','Brest','Tours',\n",
    "'Clermont-Ferrand','Rouen','Limoges','Caen','Le Mans','Nancy','Amiens','Metz','Perpignan','Orléans','Besancon','Vichy','Mulhouse','Tourcoing',\n",
    "'Poitiers','Saint-Denis','Roubaix','Montreuil','Sevran','Nanterre','Cannes','La Rochelle', 'Biarritz','Cabourg','Deauville']"
   ]
  },
  {
   "cell_type": "code",
   "execution_count": 11,
   "metadata": {},
   "outputs": [
    {
     "data": {
      "application/vnd.jupyter.widget-view+json": {
       "model_id": "35ba76a8721f49758e23ab8520dd44da",
       "version_major": 2,
       "version_minor": 0
      },
      "text/plain": [
       "interactive(children=(Dropdown(description='Nb de villes', index=2, options=(3, 4, 5, 6, 7, 8, 9, 10, 11), val…"
      ]
     },
     "metadata": {},
     "output_type": "display_data"
    },
    {
     "data": {
      "text/plain": [
       "<function __main__.make(nb)>"
      ]
     },
     "execution_count": 11,
     "metadata": {},
     "output_type": "execute_result"
    }
   ],
   "source": [
    "def make(nb):\n",
    "    villeFrance = ['Paris','Marseille','Lyon','Nantes','Rennes','Toulouse','Bordeaux','Lille','Fontainebleau','Saint-Malo','Verdun','Nice','Strasbourg',\n",
    "                    'Montpellier','Aix-en-Provence','Angers','Dijon','Grenoble','Annecy','Avignon','Nîmes','Le Havre','Toulon','Brest','Tours',\n",
    "                    'Clermont-Ferrand','Rouen','Limoges','Caen','Le Mans','Nancy','Amiens','Metz','Perpignan','Orléans','Besancon','Vichy','Mulhouse','Tourcoing',\n",
    "                    'Poitiers','Saint-Denis','Roubaix','Montreuil','Sevran','Nanterre','Cannes','La Rochelle', 'Biarritz','Cabourg','Deauville']\n",
    "    graph = []\n",
    "    avisiter = []\n",
    "    x=np.random.randint(50, size=(nb))\n",
    "    depart = villeFrance[0]\n",
    "    for i in range(nb):\n",
    "        avisiter.append(villeFrance[i])\n",
    "        for j in range (i+1, nb):\n",
    "            graph.append([villeFrance[i],villeFrance[j], randint(1, 100)])#On dit arbitrairement que la distance est comprise entre 1 et 100\n",
    "    ori = Etat([depart],avisiter, depart,depart, graph, 0, 0, avisiter, [])\n",
    "    return astar(ori)\n",
    "\n",
    "\n",
    "interact(make, nb=widgets.Dropdown(options=range(3,12),description = 'Nb de villes', value=5))"
   ]
  },
  {
   "cell_type": "code",
   "execution_count": 13,
   "metadata": {},
   "outputs": [
    {
     "data": {
      "text/plain": [
       "\"\\n# on va utiliser addpath(self,path)\\n# on va regarder pour 7 villes\\nz = 15 # nb d'itérations\\ny = 9 # nombre de villes\\ntot = 0\\nfor k in range(z):\\n    fin = taux(y)\\n    fin2 = astar2(fin)  #etat après astar\\n    c = fin.getcosts()\\n    nbvilles = len(fin.getcities())\\n    i=1\\n    j=0\\n    while j<len(c):\\n        fin = fin.addpath(c[j])\\n        j = j+(nbvilles-i)\\n        i+=1\\n    tot = tot + round(((fin2.getcost() - fin.getcost())/fin.getcost())*100, 2)\\nprint('Taux d'amelioration moyen pour',y,'villes avec astar:', (tot/z))\\n\""
      ]
     },
     "execution_count": 13,
     "metadata": {},
     "output_type": "execute_result"
    }
   ],
   "source": [
    "def taux(nb):\n",
    "    villeFrance = ['Paris','Marseille','Lyon','Nantes','Rennes','Toulouse','Bordeaux','Lille','Fontainebleau','Saint-Malo','Verdun','Nice','Strasbourg',\n",
    "                    'Montpellier','Aix-en-Provence','Angers','Dijon','Grenoble','Annecy','Avignon','Nîmes','Le Havre','Toulon','Brest','Tours',\n",
    "                    'Clermont-Ferrand','Rouen','Limoges','Caen','Le Mans','Nancy','Amiens','Metz','Perpignan','Orléans','Besancon','Vichy','Mulhouse','Tourcoing',\n",
    "                    'Poitiers','Saint-Denis','Roubaix','Montreuil','Sevran','Nanterre','Cannes','La Rochelle', 'Biarritz','Cabourg','Deauville']\n",
    "    graph = []\n",
    "    avisiter = []\n",
    "    x=np.random.randint(50, size=(nb))\n",
    "    depart = villeFrance[0]\n",
    "    for i in range(nb):\n",
    "        avisiter.append(villeFrance[i])\n",
    "        for j in range (i+1, nb):\n",
    "            graph.append([villeFrance[i],villeFrance[j], randint(1, 100)])#On dit arbitrairement que la distance est comprise entre 1 et 100\n",
    "    ori = Etat([depart],avisiter, depart,depart, graph, 0, 0, avisiter, [])\n",
    "    return ori\n",
    "\n",
    "def astar2(etat):\n",
    "    cop = deepcopy(etat)\n",
    "    cop.setvalue()\n",
    "    op = [cop] #la frontière, à voire comment représenter ça, ce sera une liste d'états, à ranger dans l'ordre croissant de f = g + h ou alors avoir une fonction qui nous donne le min\n",
    "    maxop = op.copy()\n",
    "    closed = [] # c'est les états validés et ce sera le resultat final je pense\n",
    "    closed.append(op.pop()) # initialisation\n",
    "    toadd = closed[-1].openfront() # on récupère les étapes suivantes possibles\n",
    "    for i in toadd:\n",
    "        temp = deepcopy(closed[-1]) # et on crée les etats correspondants\n",
    "        tempi = temp.addpath(i)\n",
    "        tempi.setvalue()\n",
    "        op.append(tempi) # on continue de peupler op\n",
    "    while (len(closed[-1].getvisited()) != len(etat.getcities())): # tant qu'on a pas visité toutes les villes\n",
    "        indice = 0\n",
    "        indsuppr = 0\n",
    "        first = math.inf\n",
    "        for i in op: # on va prendre dans indice l'indice de ce qui nous intéresse dans op sans oublier de le suppr de op\n",
    "            indice+=1\n",
    "            val = i.getvalue()\n",
    "            if (val)< first:\n",
    "                first = val\n",
    "                indsuppr = indice\n",
    "        closed.append(op.pop(indsuppr-1)) #on déplace ce qui nous interesse de op vers closed sans oublier de le suppr de op\n",
    "        toadd = closed[-1].openfront() # on récupère les étapes suivantes possibles\n",
    "        for i in toadd:\n",
    "            temp = deepcopy(closed[-1]) # et on crée les etats correspondants\n",
    "            tempi = temp.addpath(i)\n",
    "            tempi.setvalue()\n",
    "            op.append(tempi) # on continue de peupler op\n",
    "            if len(op) > len(maxop):\n",
    "                maxop = op\n",
    "    chemin = closed[-1].gethist()\n",
    "    last = chemin[-1][0] # dernière ville visitée\n",
    "    if chemin[-1][0] in chemin[-2]:\n",
    "        last = chemin[-1][1]\n",
    "    recherche = closed[-1].getcosts() # le graph\n",
    "    derniercout = 0\n",
    "    for i in recherche:\n",
    "        if (i[0] == closed[-1].getstartingcity()) and (i[1] == last):\n",
    "            derniercout = i[2]\n",
    "    der = closed[-1].addpath([closed[-1].getstartingcity(),last, derniercout])\n",
    "    return der\n",
    "'''\n",
    "# on va utiliser addpath(self,path)\n",
    "# on va regarder pour 7 villes\n",
    "z = 15 # nb d'itérations\n",
    "y = 9 # nombre de villes\n",
    "tot = 0\n",
    "for k in range(z):\n",
    "    fin = taux(y)\n",
    "    fin2 = astar2(fin)  #etat après astar\n",
    "    c = fin.getcosts()\n",
    "    nbvilles = len(fin.getcities())\n",
    "    i=1\n",
    "    j=0\n",
    "    while j<len(c):\n",
    "        fin = fin.addpath(c[j])\n",
    "        j = j+(nbvilles-i)\n",
    "        i+=1\n",
    "    tot = tot + round(((fin2.getcost() - fin.getcost())/fin.getcost())*100, 2)\n",
    "print('Taux d\\'amelioration moyen pour',y,'villes avec astar:', (tot/z))\n",
    "'''"
   ]
  },
  {
   "cell_type": "code",
   "execution_count": 14,
   "metadata": {},
   "outputs": [
    {
     "data": {
      "text/plain": [
       "array([ 9,  6, 12, 11, 34])"
      ]
     },
     "execution_count": 14,
     "metadata": {},
     "output_type": "execute_result"
    }
   ],
   "source": [
    "x=np.random.randint(50, size=(5))\n",
    "x"
   ]
  },
  {
   "cell_type": "markdown",
   "metadata": {},
   "source": [
    "Vous pouvez tester dans la cellule ci dessous avec le nombre de villes que vous voulez mais ce sera trop long sauf coup de chance."
   ]
  },
  {
   "cell_type": "code",
   "execution_count": 17,
   "metadata": {},
   "outputs": [
    {
     "name": "stdout",
     "output_type": "stream",
     "text": [
      "La taille max de l'ensemble frontière est de 17\n",
      "Le cout finalement trouvé est de  187\n",
      "[['Paris', 'Nantes'], ['Nantes', 'Rennes'], ['Lyon', 'Rennes'], ['Marseille', 'Lyon'], ['Paris', 'Marseille']]\n"
     ]
    },
    {
     "data": {
      "text/plain": [
       "[['Paris', 'Nantes'],\n",
       " ['Nantes', 'Rennes'],\n",
       " ['Lyon', 'Rennes'],\n",
       " ['Marseille', 'Lyon'],\n",
       " ['Paris', 'Marseille']]"
      ]
     },
     "execution_count": 17,
     "metadata": {},
     "output_type": "execute_result"
    }
   ],
   "source": [
    "make(5)"
   ]
  },
  {
   "cell_type": "markdown",
   "metadata": {},
   "source": [
    "Passons maintenant à la recherche locale. Ici les villes seront représentées par des numéros et le graph par une matrice. "
   ]
  },
  {
   "cell_type": "code",
   "execution_count": 18,
   "metadata": {},
   "outputs": [],
   "source": [
    "#On va prendre pour solution initiale le chemin 0-1-2-3-4-5-\n",
    "\n",
    "class Local:\n",
    "\n",
    "    def __init__(self, circuit=[], cost = 0, costs=[]):\n",
    "        self.circuit = circuit #le chemin qu'on prend\n",
    "        self.cost = cost #le cout courant\n",
    "        self.costs = costs # la matrice avec tous les couts\n",
    "\n",
    "    def getcircuit(self):\n",
    "        return self.circuit\n",
    "\n",
    "    def getcost(self):\n",
    "        return self.cost\n",
    "\n",
    "    def setcost(self): \n",
    "        newcost = 0\n",
    "        mat = self.getcosts()\n",
    "        cir = self.getcircuit()\n",
    "        taille = len(self.getcircuit())\n",
    "        for i in range(taille-1):\n",
    "            newcost+= mat[cir[i]][cir[i+1]]\n",
    "        self.cost = newcost\n",
    "        \n",
    "    def getcosts(self):\n",
    "        return self.costs\n",
    "\n",
    "    def hillclimb(self):\n",
    "        res = deuxopt(self.getcircuit(), self.getcosts())\n",
    "        self.circuit = res\n",
    "        self.setcost()\n",
    "        return self.circuit\n",
    "\n",
    "def deuxopt(route, matgraph):\n",
    "    result = route\n",
    "    continuer = True\n",
    "    taille = len(route)\n",
    "    while continuer:\n",
    "        continuer = False\n",
    "        for i in range(1, taille - 2): #On test tous les voisins dans ces deux boucles on démarre à un car on ne change pas le point de départ\n",
    "            for j in range(i + 1, taille):\n",
    "                if (j != (i+1)):# on ignore le cas où i et j sont consécutifs\n",
    "                    if (matgraph[result[i - 1]][result[i]] + matgraph[result[j - 1]][result[j]]) - (matgraph[result[i - 1]][result[j - 1]] + matgraph[result[i]][result[j]]) > 0: #si on a un cout testé plus intéressant, ce sera notre condition d'arret\n",
    "                        result[i:j] = result[j - 1:i - 1:-1] #on doit modifier le sens de parcours entre les deux arcs qu'on a modifié\n",
    "                        continuer = True # si c'est à False c'est qu'on a rien pu modifier pour améliorer l'algo, on est donc dans un creux de notre hill, un minimum local quoi \n",
    "    return result"
   ]
  },
  {
   "cell_type": "code",
   "execution_count": 19,
   "metadata": {},
   "outputs": [
    {
     "data": {
      "application/vnd.jupyter.widget-view+json": {
       "model_id": "0d25996851ae4d9e8f4f77fa744e097b",
       "version_major": 2,
       "version_minor": 0
      },
      "text/plain": [
       "interactive(children=(Dropdown(description='Nb de villes', index=197, options=(3, 4, 5, 6, 7, 8, 9, 10, 11, 12…"
      ]
     },
     "metadata": {},
     "output_type": "display_data"
    },
    {
     "data": {
      "text/plain": [
       "<function __main__.aff(nb)>"
      ]
     },
     "execution_count": 19,
     "metadata": {},
     "output_type": "execute_result"
    }
   ],
   "source": [
    "def AlgoHill(loc):\n",
    "    loc.setcost()\n",
    "    chInit = deepcopy(loc).getcircuit()\n",
    "    v1 = loc.getcost()\n",
    "    loc.hillclimb()\n",
    "    chFinal = loc.getcircuit()\n",
    "    v2 = loc.getcost()\n",
    "    var = round(((v2-v1)/v1)*100,2) # on arrondit le pourcentage pour la lisibilité\n",
    "    print('La variation a été de', var, '%', 'Avec un coût initial de', v1, 'et un coût finale de', v2)\n",
    "    print('le chemin initial était :', chInit)\n",
    "    print('Le chemin final est :', chFinal)\n",
    "\n",
    "\n",
    "def aff(nb):\n",
    "    first = list(range(nb))\n",
    "    matgraph = np.random.randint(100, size=(nb, nb))\n",
    "    matgraph[range(len(matgraph)), range(len(matgraph))] = 0 # on met des 0 sur la diag \n",
    "    matgraph = matgraph + matgraph.T # on additionne la matrice et sa transposée pour avoir une matrice symétrique\n",
    "    test = Local(first,0, matgraph) # on crée notre instance\n",
    "    AlgoHill(test)\n",
    "\n",
    "interact(aff, nb=widgets.Dropdown(options=range(3,1001),description = 'Nb de villes', value=200))"
   ]
  },
  {
   "cell_type": "markdown",
   "metadata": {},
   "source": [
    "Pour ce qui est de calculer l'écart à l'optimum il est difficile de le calculer pour un nombre de ville éxcédent ce que l'algorithme A* peut faire de plus la représentation du problème est différente."
   ]
  },
  {
   "cell_type": "code",
   "execution_count": 20,
   "metadata": {},
   "outputs": [
    {
     "name": "stdout",
     "output_type": "stream",
     "text": [
      "Taux d'amelioration moyen pour 11 villes avec HillClimbing: -42.327\n"
     ]
    }
   ],
   "source": [
    "def AlgoHill2(loc):\n",
    "    loc.setcost()\n",
    "    chInit = deepcopy(loc).getcircuit()\n",
    "    v1 = loc.getcost()\n",
    "    loc.hillclimb()\n",
    "    chFinal = loc.getcircuit()\n",
    "    v2 = loc.getcost()\n",
    "    var = round(((v2-v1)/v1)*100,2) # on arrondit le pourcentage pour la lisibilité\n",
    "    return var\n",
    "\n",
    "\n",
    "def aff2(nb):\n",
    "    first = list(range(nb))\n",
    "    matgraph = np.random.randint(100, size=(nb, nb))\n",
    "    matgraph[range(len(matgraph)), range(len(matgraph))] = 0 # on met des 0 sur la diag \n",
    "    matgraph = matgraph + matgraph.T # on additionne la matrice et sa transposée pour avoir une matrice symétrique\n",
    "    test = Local(first,0, matgraph) # on crée notre instance\n",
    "    return(AlgoHill2(test))\n",
    "\n",
    "# calcul du taux d'amélioration moyen pour le Hillclimb\n",
    "# on va utiliser addpath(self,path)\n",
    "# on va regarder pour 7 villes\n",
    "z = 500 # nb d'itérations\n",
    "y = 11 # nombre de villes\n",
    "tot = 0\n",
    "for k in range(z):\n",
    "    aff2(y)\n",
    "    tot = tot + aff2(y)\n",
    "print('Taux d\\'amelioration moyen pour',y,'villes avec HillClimbing:', round(tot/z,3))\n"
   ]
  }
 ],
 "metadata": {
  "interpreter": {
   "hash": "2cfd2c43a3bf363b1c7c2994b98adcd8b34127134219fd5c183b9bc1943675da"
  },
  "kernelspec": {
   "display_name": "Python 3.9.7 64-bit",
   "language": "python",
   "name": "python3"
  },
  "language_info": {
   "codemirror_mode": {
    "name": "ipython",
    "version": 3
   },
   "file_extension": ".py",
   "mimetype": "text/x-python",
   "name": "python",
   "nbconvert_exporter": "python",
   "pygments_lexer": "ipython3",
   "version": "3.9.7"
  },
  "orig_nbformat": 4
 },
 "nbformat": 4,
 "nbformat_minor": 2
}
